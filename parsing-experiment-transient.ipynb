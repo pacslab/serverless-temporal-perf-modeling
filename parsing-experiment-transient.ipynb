{
  "nbformat": 4,
  "nbformat_minor": 0,
  "metadata": {
    "language_info": {
      "name": "python",
      "codemirror_mode": {
        "name": "ipython",
        "version": 3
      },
      "version": "3.6.7-final"
    },
    "orig_nbformat": 2,
    "file_extension": ".py",
    "mimetype": "text/x-python",
    "name": "python",
    "npconvert_exporter": "python",
    "pygments_lexer": "ipython3",
    "version": 3,
    "kernelspec": {
      "name": "python36764bit06bf6d74bc974779a98a6ef0a50c382d",
      "display_name": "Python 3.6.7 64-bit"
    },
    "colab": {
      "name": "parsing-experiment-transient.ipynb",
      "provenance": [],
      "collapsed_sections": [],
      "toc_visible": true
    }
  },
  "cells": [
    {
      "cell_type": "markdown",
      "metadata": {
        "id": "RGmatESPar_Z"
      },
      "source": [
        "<a href=\"https://colab.research.google.com/github/pacslab/serverless-temporal-perf-modeling/blob/main/parsing-experiment-transient.ipynb\" target=\"_parent\">\n",
        "  <img src=\"https://colab.research.google.com/assets/colab-badge.svg\" alt=\"Open In Colab\"/>\n",
        "</a>\n",
        "\n",
        "# Parsing Multiple Files for Modeling Transient Behaviour of Serverless Computing\n",
        "\n",
        "In this file, we aim to average out several executions of the same workload pattern to get the average behavior of the platform.\n",
        "\n",
        "If you are running this notebook from environments like **Google Colab**, uncomment the following cell in your first execution to download everything from the [Github repository](https://github.com/pacslab/serverless-temporal-perf-modeling)."
      ]
    },
    {
      "cell_type": "code",
      "metadata": {
        "id": "o_uu_GY5a09j"
      },
      "source": [
        "# If running from Google Colab, uncomment these to fetch the data from Github:\n",
        "# !git init\n",
        "# !git remote add origin https://github.com/pacslab/serverless-temporal-perf-modeling.git\n",
        "# !git pull origin main\n",
        "# !pip install -r requirements.txt"
      ],
      "execution_count": 1,
      "outputs": []
    },
    {
      "cell_type": "code",
      "metadata": {
        "tags": [],
        "id": "ZXlFOld2ar_a",
        "outputId": "5a248890-e647-40f1-b3c8-0e684794a495",
        "colab": {
          "base_uri": "https://localhost:8080/"
        }
      },
      "source": [
        "%load_ext autoreload\n",
        "%autoreload 2\n",
        "# Imports\n",
        "\n",
        "import os\n",
        "\n",
        "import pacsltk.pacs_util as pacs_util\n",
        "import trans_exp_parser as exp_parser\n",
        "import trans_perf_model\n",
        "\n",
        "import pandas as pd\n",
        "\n",
        "pacs_util.prepare_matplotlib_cycler()\n",
        "\n",
        "# To avoid type 3 fonts: http://phyletica.org/matplotlib-fonts/\n",
        "from matplotlib import rcParams\n",
        "rcParams['pdf.fonttype'] = 42\n",
        "rcParams['ps.fonttype'] = 42\n",
        "import matplotlib.pyplot as plt\n",
        "\n",
        "from pandas.plotting import register_matplotlib_converters\n",
        "register_matplotlib_converters()\n",
        "\n",
        "import pacsltk\n",
        "print(pacsltk.__version__)"
      ],
      "execution_count": 3,
      "outputs": [
        {
          "output_type": "stream",
          "text": [
            "0.2.0\n"
          ],
          "name": "stdout"
        }
      ]
    },
    {
      "cell_type": "code",
      "metadata": {
        "id": "5gpJQRPSar_f"
      },
      "source": [
        "csv_file_folder = os.path.join('results', 'exp1')\n",
        "csv_file_list = [i for i in os.listdir(csv_file_folder) if '.csv' in i]\n",
        "\n",
        "idle_mins_before_kill = 10\n",
        "step_seconds = 10\n",
        "\n",
        "tdfs = []\n",
        "dfcs = []\n",
        "for csv_filename in csv_file_list:\n",
        "    csv_file = os.path.join(csv_file_folder, csv_filename)\n",
        "\n",
        "    df = exp_parser.read_csv_file(csv_file)\n",
        "    df = exp_parser.preprocess_df(df)\n",
        "    tdf, time_idx = exp_parser.time_preprocess_df(df)\n",
        "\n",
        "    parse_results = exp_parser.parse_instance_info(df, idle_mins_before_kill)\n",
        "    # load results into local variables\n",
        "    locals().update(parse_results)\n",
        "\n",
        "    # tdf['instance_count'] = \n",
        "    df_counts = exp_parser.parse_counting_info(df, df_inst, step_seconds=step_seconds)\n",
        "    df_counts['rps'] = tdf['is_cold'].resample('{}S'.format(step_seconds)).count() / step_seconds\n",
        "    df_counts['p_cold'] = tdf['is_cold'].resample('{}S'.format(step_seconds)).mean()\n",
        "    df_counts['rt'] = tdf['client_elapsed_time'].resample('{}S'.format(step_seconds)).mean() / 1000\n",
        "\n",
        "    df_counts_smooth = df_counts.resample('T').mean()\n",
        "\n",
        "    # Append the results to be used later\n",
        "    tdfs.append(tdf)\n",
        "    dfcs.append(df_counts_smooth)"
      ],
      "execution_count": 4,
      "outputs": []
    },
    {
      "cell_type": "code",
      "metadata": {
        "id": "ovyps7e6ar_i",
        "outputId": "9b40070e-f3f7-4397-e965-d9aba6d3bd15",
        "colab": {
          "base_uri": "https://localhost:8080/",
          "height": 425
        }
      },
      "source": [
        "tdfs[0].head()"
      ],
      "execution_count": 5,
      "outputs": [
        {
          "output_type": "execute_result",
          "data": {
            "text/html": [
              "<div>\n",
              "<style scoped>\n",
              "    .dataframe tbody tr th:only-of-type {\n",
              "        vertical-align: middle;\n",
              "    }\n",
              "\n",
              "    .dataframe tbody tr th {\n",
              "        vertical-align: top;\n",
              "    }\n",
              "\n",
              "    .dataframe thead th {\n",
              "        text-align: right;\n",
              "    }\n",
              "</style>\n",
              "<table border=\"1\" class=\"dataframe\">\n",
              "  <thead>\n",
              "    <tr style=\"text-align: right;\">\n",
              "      <th></th>\n",
              "      <th>is_cold</th>\n",
              "      <th>inst_id</th>\n",
              "      <th>vm_id</th>\n",
              "      <th>elapsed_time</th>\n",
              "      <th>aws_duration</th>\n",
              "      <th>client_elapsed_time</th>\n",
              "      <th>client_start_time_dt</th>\n",
              "      <th>client_end_time_dt</th>\n",
              "    </tr>\n",
              "    <tr>\n",
              "      <th>client_start_time_dt</th>\n",
              "      <th></th>\n",
              "      <th></th>\n",
              "      <th></th>\n",
              "      <th></th>\n",
              "      <th></th>\n",
              "      <th></th>\n",
              "      <th></th>\n",
              "      <th></th>\n",
              "    </tr>\n",
              "  </thead>\n",
              "  <tbody>\n",
              "    <tr>\n",
              "      <th>0 days 00:00:00</th>\n",
              "      <td>True</td>\n",
              "      <td>sandbox-cba6dc</td>\n",
              "      <td>sandbox-root-CxJkRb</td>\n",
              "      <td>2032.337402</td>\n",
              "      <td>2033.02</td>\n",
              "      <td>2427.139521</td>\n",
              "      <td>2020-03-29 23:34:41.874080</td>\n",
              "      <td>2020-03-29 23:34:44.301220</td>\n",
              "    </tr>\n",
              "    <tr>\n",
              "      <th>0 days 00:00:03.056426</th>\n",
              "      <td>False</td>\n",
              "      <td>sandbox-cba6dc</td>\n",
              "      <td>sandbox-root-CxJkRb</td>\n",
              "      <td>1842.882568</td>\n",
              "      <td>1843.52</td>\n",
              "      <td>1931.809187</td>\n",
              "      <td>2020-03-29 23:34:44.930506</td>\n",
              "      <td>2020-03-29 23:34:46.862315</td>\n",
              "    </tr>\n",
              "    <tr>\n",
              "      <th>0 days 00:00:03.381933</th>\n",
              "      <td>True</td>\n",
              "      <td>sandbox-0accc0</td>\n",
              "      <td>sandbox-root-tH885o</td>\n",
              "      <td>1965.697266</td>\n",
              "      <td>1966.37</td>\n",
              "      <td>2528.977871</td>\n",
              "      <td>2020-03-29 23:34:45.256013</td>\n",
              "      <td>2020-03-29 23:34:47.784991</td>\n",
              "    </tr>\n",
              "    <tr>\n",
              "      <th>0 days 00:00:04.001833</th>\n",
              "      <td>True</td>\n",
              "      <td>sandbox-fb1c5c</td>\n",
              "      <td>sandbox-root-EO5dtO</td>\n",
              "      <td>2000.459961</td>\n",
              "      <td>2001.12</td>\n",
              "      <td>2599.175215</td>\n",
              "      <td>2020-03-29 23:34:45.875913</td>\n",
              "      <td>2020-03-29 23:34:48.475089</td>\n",
              "    </tr>\n",
              "    <tr>\n",
              "      <th>0 days 00:00:06.978754</th>\n",
              "      <td>False</td>\n",
              "      <td>sandbox-fb1c5c</td>\n",
              "      <td>sandbox-root-EO5dtO</td>\n",
              "      <td>1850.534912</td>\n",
              "      <td>1851.19</td>\n",
              "      <td>1943.536282</td>\n",
              "      <td>2020-03-29 23:34:48.852834</td>\n",
              "      <td>2020-03-29 23:34:50.796371</td>\n",
              "    </tr>\n",
              "  </tbody>\n",
              "</table>\n",
              "</div>"
            ],
            "text/plain": [
              "                        is_cold         inst_id                vm_id  \\\n",
              "client_start_time_dt                                                   \n",
              "0 days 00:00:00            True  sandbox-cba6dc  sandbox-root-CxJkRb   \n",
              "0 days 00:00:03.056426    False  sandbox-cba6dc  sandbox-root-CxJkRb   \n",
              "0 days 00:00:03.381933     True  sandbox-0accc0  sandbox-root-tH885o   \n",
              "0 days 00:00:04.001833     True  sandbox-fb1c5c  sandbox-root-EO5dtO   \n",
              "0 days 00:00:06.978754    False  sandbox-fb1c5c  sandbox-root-EO5dtO   \n",
              "\n",
              "                        elapsed_time  aws_duration  client_elapsed_time  \\\n",
              "client_start_time_dt                                                      \n",
              "0 days 00:00:00          2032.337402       2033.02          2427.139521   \n",
              "0 days 00:00:03.056426   1842.882568       1843.52          1931.809187   \n",
              "0 days 00:00:03.381933   1965.697266       1966.37          2528.977871   \n",
              "0 days 00:00:04.001833   2000.459961       2001.12          2599.175215   \n",
              "0 days 00:00:06.978754   1850.534912       1851.19          1943.536282   \n",
              "\n",
              "                             client_start_time_dt         client_end_time_dt  \n",
              "client_start_time_dt                                                          \n",
              "0 days 00:00:00        2020-03-29 23:34:41.874080 2020-03-29 23:34:44.301220  \n",
              "0 days 00:00:03.056426 2020-03-29 23:34:44.930506 2020-03-29 23:34:46.862315  \n",
              "0 days 00:00:03.381933 2020-03-29 23:34:45.256013 2020-03-29 23:34:47.784991  \n",
              "0 days 00:00:04.001833 2020-03-29 23:34:45.875913 2020-03-29 23:34:48.475089  \n",
              "0 days 00:00:06.978754 2020-03-29 23:34:48.852834 2020-03-29 23:34:50.796371  "
            ]
          },
          "metadata": {
            "tags": []
          },
          "execution_count": 5
        }
      ]
    },
    {
      "cell_type": "code",
      "metadata": {
        "id": "JA8yMk-6ar_l",
        "outputId": "d6a28867-b14a-4b99-ac34-f9717e729595",
        "colab": {
          "base_uri": "https://localhost:8080/",
          "height": 203
        }
      },
      "source": [
        "dfcs[0].tail()"
      ],
      "execution_count": 6,
      "outputs": [
        {
          "output_type": "execute_result",
          "data": {
            "text/html": [
              "<div>\n",
              "<style scoped>\n",
              "    .dataframe tbody tr th:only-of-type {\n",
              "        vertical-align: middle;\n",
              "    }\n",
              "\n",
              "    .dataframe tbody tr th {\n",
              "        vertical-align: top;\n",
              "    }\n",
              "\n",
              "    .dataframe thead th {\n",
              "        text-align: right;\n",
              "    }\n",
              "</style>\n",
              "<table border=\"1\" class=\"dataframe\">\n",
              "  <thead>\n",
              "    <tr style=\"text-align: right;\">\n",
              "      <th></th>\n",
              "      <th>instance_count</th>\n",
              "      <th>running_count</th>\n",
              "      <th>running_warm_count</th>\n",
              "      <th>idle_count</th>\n",
              "      <th>utilization</th>\n",
              "      <th>rps</th>\n",
              "      <th>p_cold</th>\n",
              "      <th>rt</th>\n",
              "    </tr>\n",
              "  </thead>\n",
              "  <tbody>\n",
              "    <tr>\n",
              "      <th>0 days 00:55:00</th>\n",
              "      <td>51.0</td>\n",
              "      <td>17.500000</td>\n",
              "      <td>17.500000</td>\n",
              "      <td>33.500000</td>\n",
              "      <td>0.343137</td>\n",
              "      <td>7.616667</td>\n",
              "      <td>0.0</td>\n",
              "      <td>2.059014</td>\n",
              "    </tr>\n",
              "    <tr>\n",
              "      <th>0 days 00:56:00</th>\n",
              "      <td>51.0</td>\n",
              "      <td>14.166667</td>\n",
              "      <td>14.166667</td>\n",
              "      <td>36.833333</td>\n",
              "      <td>0.277778</td>\n",
              "      <td>5.650000</td>\n",
              "      <td>0.0</td>\n",
              "      <td>2.056468</td>\n",
              "    </tr>\n",
              "    <tr>\n",
              "      <th>0 days 00:57:00</th>\n",
              "      <td>51.0</td>\n",
              "      <td>6.833333</td>\n",
              "      <td>6.833333</td>\n",
              "      <td>44.166667</td>\n",
              "      <td>0.133987</td>\n",
              "      <td>3.066667</td>\n",
              "      <td>0.0</td>\n",
              "      <td>2.053080</td>\n",
              "    </tr>\n",
              "    <tr>\n",
              "      <th>0 days 00:58:00</th>\n",
              "      <td>51.0</td>\n",
              "      <td>1.666667</td>\n",
              "      <td>1.666667</td>\n",
              "      <td>49.333333</td>\n",
              "      <td>0.032680</td>\n",
              "      <td>1.033333</td>\n",
              "      <td>0.0</td>\n",
              "      <td>2.048078</td>\n",
              "    </tr>\n",
              "    <tr>\n",
              "      <th>0 days 00:59:00</th>\n",
              "      <td>51.0</td>\n",
              "      <td>1.000000</td>\n",
              "      <td>1.000000</td>\n",
              "      <td>50.000000</td>\n",
              "      <td>0.019608</td>\n",
              "      <td>0.600000</td>\n",
              "      <td>0.0</td>\n",
              "      <td>2.061483</td>\n",
              "    </tr>\n",
              "  </tbody>\n",
              "</table>\n",
              "</div>"
            ],
            "text/plain": [
              "                 instance_count  running_count  running_warm_count  \\\n",
              "0 days 00:55:00            51.0      17.500000           17.500000   \n",
              "0 days 00:56:00            51.0      14.166667           14.166667   \n",
              "0 days 00:57:00            51.0       6.833333            6.833333   \n",
              "0 days 00:58:00            51.0       1.666667            1.666667   \n",
              "0 days 00:59:00            51.0       1.000000            1.000000   \n",
              "\n",
              "                 idle_count  utilization       rps  p_cold        rt  \n",
              "0 days 00:55:00   33.500000     0.343137  7.616667     0.0  2.059014  \n",
              "0 days 00:56:00   36.833333     0.277778  5.650000     0.0  2.056468  \n",
              "0 days 00:57:00   44.166667     0.133987  3.066667     0.0  2.053080  \n",
              "0 days 00:58:00   49.333333     0.032680  1.033333     0.0  2.048078  \n",
              "0 days 00:59:00   50.000000     0.019608  0.600000     0.0  2.061483  "
            ]
          },
          "metadata": {
            "tags": []
          },
          "execution_count": 6
        }
      ]
    },
    {
      "cell_type": "code",
      "metadata": {
        "id": "kFQLQn_-ar_o"
      },
      "source": [
        "# Getting the average behaviour\n",
        "dfc = pd.DataFrame()\n",
        "for col_name in dfcs[0].columns:\n",
        "    tmpdf = pd.DataFrame()\n",
        "    for i in range(len(dfcs)):\n",
        "        tmpdf[col_name + \"_\" + str(i)] = dfcs[i][col_name]\n",
        "\n",
        "    dfc[col_name] = tmpdf.mean(axis=1)\n",
        "\n",
        "dfc.head()\n",
        "csv_filename = \"exp01-average.csv\"\n",
        "csv_file = os.path.join('results', csv_filename)\n",
        "dfc.to_csv(csv_file)"
      ],
      "execution_count": 7,
      "outputs": []
    },
    {
      "cell_type": "code",
      "metadata": {
        "id": "EcCc9m_9ar_t"
      },
      "source": [
        "mdf = dfc\n",
        "\n",
        "# How many minutes to predict into future\n",
        "pred_mins = 5\n",
        "\n",
        "warm_service_time = df[df['is_cold'] == False]['client_elapsed_time'].mean() / 1000\n",
        "cold_service_time = df[df['is_cold'] == True]['client_elapsed_time'].mean() / 1000\n",
        "idle_time_before_kill = 10*60\n",
        "max_t = 60\n",
        "\n",
        "trans_predictions = []\n",
        "for idx in range(mdf.shape[0] - pred_mins):\n",
        "    pred_rpss = mdf['rps'].iloc[idx:idx+pred_mins].values\n",
        "    init_server_count = int(mdf['instance_count'].iloc[idx])\n",
        "    props = None\n",
        "    for i in range(pred_mins):\n",
        "        arrival_rate = pred_rpss[i]\n",
        "        props, _ = trans_perf_model.get_sls_props_transient(arrival_rate, warm_service_time, \n",
        "                cold_service_time, idle_time_before_kill, max_t=max_t, \n",
        "                init_server_count=init_server_count)\n",
        "        init_server_count = int(props['avg_server_count'])\n",
        "        props['idx'] = mdf.index[idx]\n",
        "        \n",
        "    props['last_pred'] = pred_rpss[-1]\n",
        "    trans_predictions.append(props)\n",
        "\n",
        "pred_df = pd.DataFrame(trans_predictions)\n",
        "pred_df.set_index('idx', inplace=True)\n",
        "# shift to see predictions\n",
        "from datetime import timedelta\n",
        "pred_df.index = pred_df.index + timedelta(minutes=5)"
      ],
      "execution_count": 8,
      "outputs": []
    },
    {
      "cell_type": "markdown",
      "metadata": {
        "id": "fINLgSo7ar_w"
      },
      "source": [
        "## Making Plots to Compare Model and Experiments"
      ]
    },
    {
      "cell_type": "code",
      "metadata": {
        "id": "GaqSNqx8ar_x"
      },
      "source": [
        "import matplotlib.ticker as mticker\n",
        "import datetime\n",
        "import math\n",
        "\n",
        "# Prepare for plots\n",
        "figs_folder = \"figs\"\n",
        "\n",
        "def get_fig_path(x): return (os.path.join(figs_folder, \"exp\" +\n",
        "                                          x + \".png\"), os.path.join(figs_folder, \"exp\" + x + \".pdf\"))\n",
        "\n",
        "def tmp_fig_save(fig_name):\n",
        "    paths = get_fig_path(fig_name)\n",
        "    plt.savefig(paths[0], dpi=300)\n",
        "    plt.savefig(paths[1])\n",
        "\n",
        "def plot_configs(ylab, is_texp=True):\n",
        "    plt.legend()\n",
        "    plt.tight_layout()\n",
        "    plt.grid(True)\n",
        "    plt.xlabel(\"Experiment Time (MM:SS)\")\n",
        "    plt.ylabel(ylab)\n",
        "    plt.gcf().subplots_adjust(left=0.17, bottom=0.22)\n",
        "    if is_texp:\n",
        "        pacs_util.fix_timedelta(1e-3)\n",
        "\n",
        "    def timeTicks(x, pos):\n",
        "        # d = datetime.timedelta(seconds=x/1e9)\n",
        "        # s = str(d)\n",
        "        # return \":\".join(s.split(\":\")[1:3])\n",
        "        remaining_seconds = x / 1e9\n",
        "        minutes = math.floor(remaining_seconds / 60)\n",
        "        seconds = math.floor(remaining_seconds - minutes * 60)\n",
        "        return f\"{minutes:02d}:{seconds:02d}\"\n",
        "\n",
        "    plt.gca().xaxis.set_major_locator(mticker.MultipleLocator(base=10*60*1e9))\n",
        "    plt.gca().xaxis.set_minor_locator(mticker.MultipleLocator(base=1*60*1e9))\n",
        "    formatter = mticker.FuncFormatter(timeTicks)\n",
        "    plt.gca().xaxis.set_major_formatter(formatter)"
      ],
      "execution_count": 9,
      "outputs": []
    },
    {
      "cell_type": "code",
      "metadata": {
        "tags": [],
        "id": "WQsG8p5Bar_0",
        "outputId": "c5325dea-1e69-4cdd-80e8-4baf619d25ab",
        "colab": {
          "base_uri": "https://localhost:8080/",
          "height": 821
        }
      },
      "source": [
        "# Remove the parts we don't have a prediction for\n",
        "def make_plots(mdf, pred_df, prefix=None):\n",
        "    mdf = mdf[mdf.index >= pred_df.index.min()]\n",
        "\n",
        "    plt.figure(figsize=(4,1.8))\n",
        "    plt.plot(mdf['instance_count'], label='Experiment')\n",
        "    plt.plot(pred_df['avg_server_count'], label='Model Prediction')\n",
        "    plot_configs(\"Instance Count\")\n",
        "    if prefix is not None:\n",
        "        tmp_fig_save(prefix+\"_instance_count\")\n",
        "\n",
        "    plt.figure(figsize=(4,1.8))\n",
        "    plt.plot(mdf['rps'], label='Experiment')\n",
        "    plt.plot(pred_df['last_pred'].shift(-1), label='Model Prediction')\n",
        "    plot_configs(\"Requests / Sec\")\n",
        "    if prefix is not None:\n",
        "        tmp_fig_save(prefix+\"_rps\")\n",
        "\n",
        "    plt.figure(figsize=(4,1.8))\n",
        "    plt.plot(mdf['p_cold'], label='Experiment')\n",
        "    plt.plot(pred_df['cold_prob'], label='Model Prediction')\n",
        "    plot_configs(\"Cold Start Prob.\")\n",
        "    if prefix is not None:\n",
        "        tmp_fig_save(prefix+\"_p_cold\")\n",
        "\n",
        "    plt.figure(figsize=(4,1.8))\n",
        "    plt.plot(mdf['utilization'], label='Experiment')\n",
        "    plt.plot(pred_df['avg_utilization'], label='Model Prediction')\n",
        "    plot_configs(\"Utilization\")\n",
        "    if prefix is not None:\n",
        "        tmp_fig_save(prefix+\"_utilization\")\n",
        "\n",
        "    plt.figure(figsize=(4,1.8))\n",
        "    plt.plot(mdf['running_count'], label='Experiment')\n",
        "    plt.plot(pred_df['avg_running_count'], label='Model Prediction')\n",
        "    plot_configs(\"Num of Running\")\n",
        "    if prefix is not None:\n",
        "        tmp_fig_save(prefix+\"_running_count\")\n",
        "\n",
        "    plt.figure(figsize=(4,1.8))\n",
        "    plt.plot(mdf['idle_count'], label='Experiment')\n",
        "    plt.plot(pred_df['avg_idle_count'], label='Model Prediction')\n",
        "    plot_configs(\"Num of Idle\")\n",
        "    if prefix is not None:\n",
        "        tmp_fig_save(prefix+\"_idle_count\")\n",
        "\n",
        "make_plots(mdf, pred_df, prefix='01')"
      ],
      "execution_count": 10,
      "outputs": [
        {
          "output_type": "display_data",
          "data": {
            "image/png": "[encoded data removed]",
            "text/plain": [
              "<Figure size 288x129.6 with 1 Axes>"
            ]
          },
          "metadata": {
            "tags": [],
            "needs_background": "light"
          }
        },
        {
          "output_type": "display_data",
          "data": {
            "image/png": "[encoded data removed]",
            "text/plain": [
              "<Figure size 288x129.6 with 1 Axes>"
            ]
          },
          "metadata": {
            "tags": [],
            "needs_background": "light"
          }
        },
        {
          "output_type": "display_data",
          "data": {
            "image/png": "[encoded data removed]",
            "text/plain": [
              "<Figure size 288x129.6 with 1 Axes>"
            ]
          },
          "metadata": {
            "tags": [],
            "needs_background": "light"
          }
        },
        {
          "output_type": "display_data",
          "data": {
            "image/png": "[encoded data removed]",
            "text/plain": [
              "<Figure size 288x129.6 with 1 Axes>"
            ]
          },
          "metadata": {
            "tags": [],
            "needs_background": "light"
          }
        },
        {
          "output_type": "display_data",
          "data": {
            "image/png": "[encoded data removed]",
            "text/plain": [
              "<Figure size 288x129.6 with 1 Axes>"
            ]
          },
          "metadata": {
            "tags": [],
            "needs_background": "light"
          }
        },
        {
          "output_type": "display_data",
          "data": {
            "image/png": "[encoded data removed]",
            "text/plain": [
              "<Figure size 288x129.6 with 1 Axes>"
            ]
          },
          "metadata": {
            "tags": [],
            "needs_background": "light"
          }
        }
      ]
    },
    {
      "cell_type": "markdown",
      "metadata": {
        "id": "UgRUlTjnjarg"
      },
      "source": [
        "# Download Figures\n",
        "\n",
        "This section will execute the necessary code for downloading the figures generated in this notebook."
      ]
    },
    {
      "cell_type": "code",
      "metadata": {
        "id": "OiWajDYSjZmX",
        "outputId": "870728ea-12d2-475c-d152-e9763355ad16",
        "colab": {
          "base_uri": "https://localhost:8080/",
          "height": 223
        }
      },
      "source": [
        "!zip figs.zip figs/*\n",
        "\n",
        "from google.colab import files\n",
        "\n",
        "files.download('figs.zip')"
      ],
      "execution_count": 11,
      "outputs": [
        {
          "output_type": "stream",
          "text": [
            "updating: figs/exp01_idle_count.pdf (deflated 2%)\n",
            "updating: figs/exp01_idle_count.png (deflated 6%)\n",
            "updating: figs/exp01_instance_count.pdf (deflated 2%)\n",
            "updating: figs/exp01_instance_count.png (deflated 6%)\n",
            "updating: figs/exp01_p_cold.pdf (deflated 2%)\n",
            "updating: figs/exp01_p_cold.png (deflated 6%)\n",
            "updating: figs/exp01_rps.pdf (deflated 2%)\n",
            "updating: figs/exp01_rps.png (deflated 6%)\n",
            "updating: figs/exp01_running_count.pdf (deflated 2%)\n",
            "updating: figs/exp01_running_count.png (deflated 5%)\n",
            "updating: figs/exp01_utilization.pdf (deflated 2%)\n",
            "updating: figs/exp01_utilization.png (deflated 6%)\n"
          ],
          "name": "stdout"
        },
        {
          "output_type": "display_data",
          "data": {
            "application/javascript": [
              "\n",
              "    async function download(id, filename, size) {\n",
              "      if (!google.colab.kernel.accessAllowed) {\n",
              "        return;\n",
              "      }\n",
              "      const div = document.createElement('div');\n",
              "      const label = document.createElement('label');\n",
              "      label.textContent = `Downloading \"${filename}\": `;\n",
              "      div.appendChild(label);\n",
              "      const progress = document.createElement('progress');\n",
              "      progress.max = size;\n",
              "      div.appendChild(progress);\n",
              "      document.body.appendChild(div);\n",
              "\n",
              "      const buffers = [];\n",
              "      let downloaded = 0;\n",
              "\n",
              "      const channel = await google.colab.kernel.comms.open(id);\n",
              "      // Send a message to notify the kernel that we're ready.\n",
              "      channel.send({})\n",
              "\n",
              "      for await (const message of channel.messages) {\n",
              "        // Send a message to notify the kernel that we're ready.\n",
              "        channel.send({})\n",
              "        if (message.buffers) {\n",
              "          for (const buffer of message.buffers) {\n",
              "            buffers.push(buffer);\n",
              "            downloaded += buffer.byteLength;\n",
              "            progress.value = downloaded;\n",
              "          }\n",
              "        }\n",
              "      }\n",
              "      const blob = new Blob(buffers, {type: 'application/binary'});\n",
              "      const a = document.createElement('a');\n",
              "      a.href = window.URL.createObjectURL(blob);\n",
              "      a.download = filename;\n",
              "      div.appendChild(a);\n",
              "      a.click();\n",
              "      div.remove();\n",
              "    }\n",
              "  "
            ],
            "text/plain": [
              "<IPython.core.display.Javascript object>"
            ]
          },
          "metadata": {
            "tags": []
          }
        },
        {
          "output_type": "display_data",
          "data": {
            "application/javascript": [
              "download(\"download_ae350bc4-a063-4bf7-ab5a-511364761ba0\", \"figs.zip\", 1711568)"
            ],
            "text/plain": [
              "<IPython.core.display.Javascript object>"
            ]
          },
          "metadata": {
            "tags": []
          }
        }
      ]
    }
  ]
}