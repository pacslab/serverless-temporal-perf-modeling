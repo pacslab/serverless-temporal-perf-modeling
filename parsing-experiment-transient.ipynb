{
  "nbformat": 4,
  "nbformat_minor": 0,
  "metadata": {
    "language_info": {
      "name": "python",
      "codemirror_mode": {
        "name": "ipython",
        "version": 3
      },
      "version": "3.6.7-final"
    },
    "orig_nbformat": 2,
    "file_extension": ".py",
    "mimetype": "text/x-python",
    "name": "python",
    "npconvert_exporter": "python",
    "pygments_lexer": "ipython3",
    "version": 3,
    "kernelspec": {
      "name": "python36764bit06bf6d74bc974779a98a6ef0a50c382d",
      "display_name": "Python 3.6.7 64-bit"
    },
    "colab": {
      "name": "parsing-experiment-transient.ipynb",
      "provenance": [],
      "collapsed_sections": [],
      "toc_visible": true
    }
  },
  "cells": [
    {
      "cell_type": "markdown",
      "metadata": {
        "id": "RGmatESPar_Z"
      },
      "source": [
        "<a href=\"https://colab.research.google.com/github/pacslab/serverless-temporal-perf-modeling/blob/main/parsing-experiment-transient.ipynb\" target=\"_parent\">\n",
        "  <img src=\"https://colab.research.google.com/assets/colab-badge.svg\" alt=\"Open In Colab\"/>\n",
        "</a>\n",
        "\n",
        "# Parsing Multiple Files for Modeling Transient Behaviour of Serverless Computing\n",
        "\n",
        "In this file, we aim to average out several executions of the same workload pattern to get the average behavior of the platform.\n",
        "\n",
        "If you are running this notebook from environments like **Google Colab**, uncomment the following cell in your first execution to download everything from the [Github repository](https://github.com/pacslab/serverless-temporal-perf-modeling)."
      ]
    },
    {
      "cell_type": "code",
      "metadata": {
        "id": "o_uu_GY5a09j"
      },
      "source": [
        "# If running from Google Colab, uncomment these to fetch the data from Github:\n",
        "# !git init\n",
        "# !git remote add origin https://github.com/pacslab/serverless-temporal-perf-modeling.git\n",
        "# !git pull origin main\n",
        "# !pip install -r requirements.txt"
      ],
      "execution_count": null,
      "outputs": []
    },
    {
      "cell_type": "code",
      "metadata": {
        "tags": [],
        "id": "ZXlFOld2ar_a",
        "outputId": "140fb95a-1401-4a7e-948a-917c677dca18",
        "colab": {
          "base_uri": "https://localhost:8080/",
          "height": 34
        }
      },
      "source": [
        "%load_ext autoreload\n",
        "%autoreload 2\n",
        "# Imports\n",
        "\n",
        "import os\n",
        "\n",
        "import pacsltk.pacs_util as pacs_util\n",
        "import trans_exp_parser as exp_parser\n",
        "import trans_perf_model\n",
        "\n",
        "import pandas as pd\n",
        "import matplotlib.pyplot as plt\n",
        "\n",
        "from pandas.plotting import register_matplotlib_converters\n",
        "register_matplotlib_converters()\n",
        "\n",
        "import pacsltk\n",
        "print(pacsltk.__version__)"
      ],
      "execution_count": null,
      "outputs": [
        {
          "output_type": "stream",
          "text": [
            "0.1.13\n"
          ],
          "name": "stdout"
        }
      ]
    },
    {
      "cell_type": "code",
      "metadata": {
        "id": "5gpJQRPSar_f"
      },
      "source": [
        "csv_file_folder = os.path.join('results', 'exp1')\n",
        "csv_file_list = [i for i in os.listdir(csv_file_folder) if '.csv' in i]\n",
        "\n",
        "idle_mins_before_kill = 10\n",
        "step_seconds = 10\n",
        "\n",
        "tdfs = []\n",
        "dfcs = []\n",
        "for csv_filename in csv_file_list:\n",
        "    csv_file = os.path.join(csv_file_folder, csv_filename)\n",
        "\n",
        "    df = exp_parser.read_csv_file(csv_file)\n",
        "    df = exp_parser.preprocess_df(df)\n",
        "    tdf, time_idx = exp_parser.time_preprocess_df(df)\n",
        "\n",
        "    parse_results = exp_parser.parse_instance_info(df, idle_mins_before_kill)\n",
        "    # load results into local variables\n",
        "    locals().update(parse_results)\n",
        "\n",
        "    # tdf['instance_count'] = \n",
        "    df_counts = exp_parser.parse_counting_info(df, df_inst, step_seconds=step_seconds)\n",
        "    df_counts['rps'] = tdf['is_cold'].resample('{}S'.format(step_seconds)).count() / step_seconds\n",
        "    df_counts['p_cold'] = tdf['is_cold'].resample('{}S'.format(step_seconds)).mean()\n",
        "    df_counts['rt'] = tdf['client_elapsed_time'].resample('{}S'.format(step_seconds)).mean() / 1000\n",
        "\n",
        "    df_counts_smooth = df_counts.resample('T').mean()\n",
        "\n",
        "    # Append the results to be used later\n",
        "    tdfs.append(tdf)\n",
        "    dfcs.append(df_counts_smooth)"
      ],
      "execution_count": null,
      "outputs": []
    },
    {
      "cell_type": "code",
      "metadata": {
        "id": "ovyps7e6ar_i",
        "outputId": "31bc9d5c-0b9a-4acb-c7fc-f7b46caa0c2b",
        "colab": {
          "base_uri": "https://localhost:8080/",
          "height": 234
        }
      },
      "source": [
        "tdfs[0].head()"
      ],
      "execution_count": null,
      "outputs": [
        {
          "output_type": "execute_result",
          "data": {
            "text/html": [
              "<div>\n",
              "<style scoped>\n",
              "    .dataframe tbody tr th:only-of-type {\n",
              "        vertical-align: middle;\n",
              "    }\n",
              "\n",
              "    .dataframe tbody tr th {\n",
              "        vertical-align: top;\n",
              "    }\n",
              "\n",
              "    .dataframe thead th {\n",
              "        text-align: right;\n",
              "    }\n",
              "</style>\n",
              "<table border=\"1\" class=\"dataframe\">\n",
              "  <thead>\n",
              "    <tr style=\"text-align: right;\">\n",
              "      <th></th>\n",
              "      <th>is_cold</th>\n",
              "      <th>inst_id</th>\n",
              "      <th>vm_id</th>\n",
              "      <th>elapsed_time</th>\n",
              "      <th>aws_duration</th>\n",
              "      <th>client_elapsed_time</th>\n",
              "      <th>client_start_time_dt</th>\n",
              "      <th>client_end_time_dt</th>\n",
              "    </tr>\n",
              "    <tr>\n",
              "      <th>client_start_time_dt</th>\n",
              "      <th></th>\n",
              "      <th></th>\n",
              "      <th></th>\n",
              "      <th></th>\n",
              "      <th></th>\n",
              "      <th></th>\n",
              "      <th></th>\n",
              "      <th></th>\n",
              "    </tr>\n",
              "  </thead>\n",
              "  <tbody>\n",
              "    <tr>\n",
              "      <th>0 days 00:00:00</th>\n",
              "      <td>True</td>\n",
              "      <td>sandbox-8417a8</td>\n",
              "      <td>sandbox-root-BHH3hr</td>\n",
              "      <td>2010.156494</td>\n",
              "      <td>2010.96</td>\n",
              "      <td>2366.491556</td>\n",
              "      <td>2020-03-26 00:36:46.684891</td>\n",
              "      <td>2020-03-26 00:36:49.051382</td>\n",
              "    </tr>\n",
              "    <tr>\n",
              "      <th>0 days 00:00:00.346712</th>\n",
              "      <td>True</td>\n",
              "      <td>sandbox-80482c</td>\n",
              "      <td>sandbox-root-i7zqfu</td>\n",
              "      <td>2020.813965</td>\n",
              "      <td>2021.48</td>\n",
              "      <td>2582.517385</td>\n",
              "      <td>2020-03-26 00:36:47.031603</td>\n",
              "      <td>2020-03-26 00:36:49.614120</td>\n",
              "    </tr>\n",
              "    <tr>\n",
              "      <th>0 days 00:00:01.414425</th>\n",
              "      <td>True</td>\n",
              "      <td>sandbox-d15ed9</td>\n",
              "      <td>sandbox-root-uE6qOv</td>\n",
              "      <td>2043.438721</td>\n",
              "      <td>2043.55</td>\n",
              "      <td>2618.621349</td>\n",
              "      <td>2020-03-26 00:36:48.099316</td>\n",
              "      <td>2020-03-26 00:36:50.717938</td>\n",
              "    </tr>\n",
              "    <tr>\n",
              "      <th>0 days 00:00:02.686002</th>\n",
              "      <td>False</td>\n",
              "      <td>sandbox-8417a8</td>\n",
              "      <td>sandbox-root-BHH3hr</td>\n",
              "      <td>1765.493408</td>\n",
              "      <td>1765.44</td>\n",
              "      <td>1859.329462</td>\n",
              "      <td>2020-03-26 00:36:49.370893</td>\n",
              "      <td>2020-03-26 00:36:51.230223</td>\n",
              "    </tr>\n",
              "    <tr>\n",
              "      <th>0 days 00:00:03.154604</th>\n",
              "      <td>False</td>\n",
              "      <td>sandbox-80482c</td>\n",
              "      <td>sandbox-root-i7zqfu</td>\n",
              "      <td>1884.789551</td>\n",
              "      <td>1885.55</td>\n",
              "      <td>1974.874496</td>\n",
              "      <td>2020-03-26 00:36:49.839495</td>\n",
              "      <td>2020-03-26 00:36:51.814370</td>\n",
              "    </tr>\n",
              "  </tbody>\n",
              "</table>\n",
              "</div>"
            ],
            "text/plain": [
              "                        is_cold         inst_id                vm_id  \\\n",
              "client_start_time_dt                                                   \n",
              "0 days 00:00:00            True  sandbox-8417a8  sandbox-root-BHH3hr   \n",
              "0 days 00:00:00.346712     True  sandbox-80482c  sandbox-root-i7zqfu   \n",
              "0 days 00:00:01.414425     True  sandbox-d15ed9  sandbox-root-uE6qOv   \n",
              "0 days 00:00:02.686002    False  sandbox-8417a8  sandbox-root-BHH3hr   \n",
              "0 days 00:00:03.154604    False  sandbox-80482c  sandbox-root-i7zqfu   \n",
              "\n",
              "                        elapsed_time  aws_duration  client_elapsed_time  \\\n",
              "client_start_time_dt                                                      \n",
              "0 days 00:00:00          2010.156494       2010.96          2366.491556   \n",
              "0 days 00:00:00.346712   2020.813965       2021.48          2582.517385   \n",
              "0 days 00:00:01.414425   2043.438721       2043.55          2618.621349   \n",
              "0 days 00:00:02.686002   1765.493408       1765.44          1859.329462   \n",
              "0 days 00:00:03.154604   1884.789551       1885.55          1974.874496   \n",
              "\n",
              "                             client_start_time_dt         client_end_time_dt  \n",
              "client_start_time_dt                                                          \n",
              "0 days 00:00:00        2020-03-26 00:36:46.684891 2020-03-26 00:36:49.051382  \n",
              "0 days 00:00:00.346712 2020-03-26 00:36:47.031603 2020-03-26 00:36:49.614120  \n",
              "0 days 00:00:01.414425 2020-03-26 00:36:48.099316 2020-03-26 00:36:50.717938  \n",
              "0 days 00:00:02.686002 2020-03-26 00:36:49.370893 2020-03-26 00:36:51.230223  \n",
              "0 days 00:00:03.154604 2020-03-26 00:36:49.839495 2020-03-26 00:36:51.814370  "
            ]
          },
          "metadata": {
            "tags": []
          },
          "execution_count": 4
        }
      ]
    },
    {
      "cell_type": "code",
      "metadata": {
        "id": "JA8yMk-6ar_l",
        "outputId": "0d8a9d61-05ad-42f4-a249-cef2ad762804",
        "colab": {
          "base_uri": "https://localhost:8080/",
          "height": 203
        }
      },
      "source": [
        "dfcs[0].tail()"
      ],
      "execution_count": null,
      "outputs": [
        {
          "output_type": "execute_result",
          "data": {
            "text/html": [
              "<div>\n",
              "<style scoped>\n",
              "    .dataframe tbody tr th:only-of-type {\n",
              "        vertical-align: middle;\n",
              "    }\n",
              "\n",
              "    .dataframe tbody tr th {\n",
              "        vertical-align: top;\n",
              "    }\n",
              "\n",
              "    .dataframe thead th {\n",
              "        text-align: right;\n",
              "    }\n",
              "</style>\n",
              "<table border=\"1\" class=\"dataframe\">\n",
              "  <thead>\n",
              "    <tr style=\"text-align: right;\">\n",
              "      <th></th>\n",
              "      <th>instance_count</th>\n",
              "      <th>running_count</th>\n",
              "      <th>running_warm_count</th>\n",
              "      <th>idle_count</th>\n",
              "      <th>utilization</th>\n",
              "      <th>rps</th>\n",
              "      <th>p_cold</th>\n",
              "      <th>rt</th>\n",
              "    </tr>\n",
              "  </thead>\n",
              "  <tbody>\n",
              "    <tr>\n",
              "      <th>0 days 00:55:00</th>\n",
              "      <td>49.000000</td>\n",
              "      <td>13.500000</td>\n",
              "      <td>13.500000</td>\n",
              "      <td>35.500000</td>\n",
              "      <td>0.275510</td>\n",
              "      <td>7.066667</td>\n",
              "      <td>0.0</td>\n",
              "      <td>2.112090</td>\n",
              "    </tr>\n",
              "    <tr>\n",
              "      <th>0 days 00:56:00</th>\n",
              "      <td>49.000000</td>\n",
              "      <td>9.166667</td>\n",
              "      <td>9.166667</td>\n",
              "      <td>39.833333</td>\n",
              "      <td>0.187075</td>\n",
              "      <td>4.766667</td>\n",
              "      <td>0.0</td>\n",
              "      <td>2.116812</td>\n",
              "    </tr>\n",
              "    <tr>\n",
              "      <th>0 days 00:57:00</th>\n",
              "      <td>48.833333</td>\n",
              "      <td>6.500000</td>\n",
              "      <td>6.500000</td>\n",
              "      <td>42.333333</td>\n",
              "      <td>0.132866</td>\n",
              "      <td>3.116667</td>\n",
              "      <td>0.0</td>\n",
              "      <td>2.103055</td>\n",
              "    </tr>\n",
              "    <tr>\n",
              "      <th>0 days 00:58:00</th>\n",
              "      <td>48.000000</td>\n",
              "      <td>2.000000</td>\n",
              "      <td>2.000000</td>\n",
              "      <td>46.000000</td>\n",
              "      <td>0.041667</td>\n",
              "      <td>1.400000</td>\n",
              "      <td>0.0</td>\n",
              "      <td>2.092403</td>\n",
              "    </tr>\n",
              "    <tr>\n",
              "      <th>0 days 00:59:00</th>\n",
              "      <td>48.000000</td>\n",
              "      <td>1.000000</td>\n",
              "      <td>1.000000</td>\n",
              "      <td>47.000000</td>\n",
              "      <td>0.020833</td>\n",
              "      <td>1.100000</td>\n",
              "      <td>0.0</td>\n",
              "      <td>2.090262</td>\n",
              "    </tr>\n",
              "  </tbody>\n",
              "</table>\n",
              "</div>"
            ],
            "text/plain": [
              "                 instance_count  running_count  running_warm_count  \\\n",
              "0 days 00:55:00       49.000000      13.500000           13.500000   \n",
              "0 days 00:56:00       49.000000       9.166667            9.166667   \n",
              "0 days 00:57:00       48.833333       6.500000            6.500000   \n",
              "0 days 00:58:00       48.000000       2.000000            2.000000   \n",
              "0 days 00:59:00       48.000000       1.000000            1.000000   \n",
              "\n",
              "                 idle_count  utilization       rps  p_cold        rt  \n",
              "0 days 00:55:00   35.500000     0.275510  7.066667     0.0  2.112090  \n",
              "0 days 00:56:00   39.833333     0.187075  4.766667     0.0  2.116812  \n",
              "0 days 00:57:00   42.333333     0.132866  3.116667     0.0  2.103055  \n",
              "0 days 00:58:00   46.000000     0.041667  1.400000     0.0  2.092403  \n",
              "0 days 00:59:00   47.000000     0.020833  1.100000     0.0  2.090262  "
            ]
          },
          "metadata": {
            "tags": []
          },
          "execution_count": 5
        }
      ]
    },
    {
      "cell_type": "code",
      "metadata": {
        "id": "kFQLQn_-ar_o"
      },
      "source": [
        "# Getting the average behaviour\n",
        "dfc = pd.DataFrame()\n",
        "for col_name in dfcs[0].columns:\n",
        "    tmpdf = pd.DataFrame()\n",
        "    for i in range(len(dfcs)):\n",
        "        tmpdf[col_name + \"_\" + str(i)] = dfcs[i][col_name]\n",
        "\n",
        "    dfc[col_name] = tmpdf.mean(axis=1)\n",
        "\n",
        "dfc.head()\n",
        "csv_filename = \"exp01-average.csv\"\n",
        "csv_file = os.path.join('results', csv_filename)\n",
        "dfc.to_csv(csv_file)"
      ],
      "execution_count": null,
      "outputs": []
    },
    {
      "cell_type": "code",
      "metadata": {
        "id": "EcCc9m_9ar_t"
      },
      "source": [
        "mdf = dfc\n",
        "\n",
        "# How many minutes to predict into future\n",
        "pred_mins = 5\n",
        "\n",
        "warm_service_time = df[df['is_cold'] == False]['client_elapsed_time'].mean() / 1000\n",
        "cold_service_time = df[df['is_cold'] == True]['client_elapsed_time'].mean() / 1000\n",
        "idle_time_before_kill = 10*60\n",
        "max_t = 60\n",
        "\n",
        "trans_predictions = []\n",
        "for idx in range(mdf.shape[0] - pred_mins):\n",
        "    pred_rpss = mdf['rps'].iloc[idx:idx+pred_mins].values\n",
        "    init_server_count = int(mdf['instance_count'].iloc[idx])\n",
        "    props = None\n",
        "    for i in range(pred_mins):\n",
        "        arrival_rate = pred_rpss[i]\n",
        "        props, _ = trans_perf_model.get_sls_props_transient(arrival_rate, warm_service_time, \n",
        "                cold_service_time, idle_time_before_kill, max_t=max_t, \n",
        "                init_server_count=init_server_count)\n",
        "        init_server_count = int(props['avg_server_count'])\n",
        "        props['idx'] = mdf.index[idx]\n",
        "        \n",
        "    props['last_pred'] = pred_rpss[-1]\n",
        "    trans_predictions.append(props)\n",
        "\n",
        "pred_df = pd.DataFrame(trans_predictions)\n",
        "pred_df.set_index('idx', inplace=True)\n",
        "# shift to see predictions\n",
        "from datetime import timedelta\n",
        "pred_df.index = pred_df.index + timedelta(minutes=5)"
      ],
      "execution_count": null,
      "outputs": []
    },
    {
      "cell_type": "markdown",
      "metadata": {
        "id": "fINLgSo7ar_w"
      },
      "source": [
        "## Making Plots to Compare Model and Experiments"
      ]
    },
    {
      "cell_type": "code",
      "metadata": {
        "id": "GaqSNqx8ar_x"
      },
      "source": [
        "import matplotlib.ticker as mticker\n",
        "import datetime\n",
        "import math\n",
        "\n",
        "# Prepare for plots\n",
        "figs_folder = \"figs\"\n",
        "pacs_util.prepare_matplotlib_cycler()\n",
        "\n",
        "def get_fig_path(x): return (os.path.join(figs_folder, \"exp\" +\n",
        "                                          x + \".png\"), os.path.join(figs_folder, \"exp\" + x + \".pdf\"))\n",
        "\n",
        "def tmp_fig_save(fig_name):\n",
        "    paths = get_fig_path(fig_name)\n",
        "    plt.savefig(paths[0], dpi=300)\n",
        "    plt.savefig(paths[1])\n",
        "\n",
        "def plot_configs(ylab, is_texp=True):\n",
        "    plt.legend()\n",
        "    plt.tight_layout()\n",
        "    plt.grid(True)\n",
        "    plt.xlabel(\"Experiment Time (MM:SS)\")\n",
        "    plt.ylabel(ylab)\n",
        "    plt.gcf().subplots_adjust(left=0.17, bottom=0.22)\n",
        "    if is_texp:\n",
        "        pacs_util.fix_timedelta(1e-3)\n",
        "\n",
        "    def timeTicks(x, pos):\n",
        "        # d = datetime.timedelta(seconds=x/1e9)\n",
        "        # s = str(d)\n",
        "        # return \":\".join(s.split(\":\")[1:3])\n",
        "        remaining_seconds = x / 1e9\n",
        "        minutes = math.floor(remaining_seconds / 60)\n",
        "        seconds = math.floor(remaining_seconds - minutes * 60)\n",
        "        return f\"{minutes:02d}:{seconds:02d}\"\n",
        "\n",
        "    plt.gca().xaxis.set_major_locator(mticker.MultipleLocator(base=10*60*1e9))\n",
        "    plt.gca().xaxis.set_minor_locator(mticker.MultipleLocator(base=1*60*1e9))\n",
        "    formatter = mticker.FuncFormatter(timeTicks)\n",
        "    plt.gca().xaxis.set_major_formatter(formatter)"
      ],
      "execution_count": null,
      "outputs": []
    },
    {
      "cell_type": "code",
      "metadata": {
        "tags": [],
        "id": "WQsG8p5Bar_0",
        "outputId": "6c299924-3f57-4b2a-b482-af60185c4ab9",
        "colab": {
          "base_uri": "https://localhost:8080/",
          "height": 821
        }
      },
      "source": [
        "# Remove the parts we don't have a prediction for\n",
        "def make_plots(mdf, pred_df, prefix=None):\n",
        "    mdf = mdf[mdf.index >= pred_df.index.min()]\n",
        "\n",
        "    plt.figure(figsize=(4,1.8))\n",
        "    plt.plot(mdf['instance_count'], label='Experiment')\n",
        "    plt.plot(pred_df['avg_server_count'], label='Model Prediction')\n",
        "    plot_configs(\"Instance Count\")\n",
        "    if prefix is not None:\n",
        "        tmp_fig_save(prefix+\"_instance_count\")\n",
        "\n",
        "    plt.figure(figsize=(4,1.8))\n",
        "    plt.plot(mdf['rps'], label='Experiment')\n",
        "    plt.plot(pred_df['last_pred'].shift(-1), label='Model Prediction')\n",
        "    plot_configs(\"Requests / Sec\")\n",
        "    if prefix is not None:\n",
        "        tmp_fig_save(prefix+\"_rps\")\n",
        "\n",
        "    plt.figure(figsize=(4,1.8))\n",
        "    plt.plot(mdf['p_cold'], label='Experiment')\n",
        "    plt.plot(pred_df['cold_prob'], label='Model Prediction')\n",
        "    plot_configs(\"Cold Start Prob.\")\n",
        "    if prefix is not None:\n",
        "        tmp_fig_save(prefix+\"_p_cold\")\n",
        "\n",
        "    plt.figure(figsize=(4,1.8))\n",
        "    plt.plot(mdf['utilization'], label='Experiment')\n",
        "    plt.plot(pred_df['avg_utilization'], label='Model Prediction')\n",
        "    plot_configs(\"Utilization\")\n",
        "    if prefix is not None:\n",
        "        tmp_fig_save(prefix+\"_utilization\")\n",
        "\n",
        "    plt.figure(figsize=(4,1.8))\n",
        "    plt.plot(mdf['running_count'], label='Experiment')\n",
        "    plt.plot(pred_df['avg_running_count'], label='Model Prediction')\n",
        "    plot_configs(\"Num of Running\")\n",
        "    if prefix is not None:\n",
        "        tmp_fig_save(prefix+\"_running_count\")\n",
        "\n",
        "    plt.figure(figsize=(4,1.8))\n",
        "    plt.plot(mdf['idle_count'], label='Experiment')\n",
        "    plt.plot(pred_df['avg_idle_count'], label='Model Prediction')\n",
        "    plot_configs(\"Num of Idle\")\n",
        "    if prefix is not None:\n",
        "        tmp_fig_save(prefix+\"_idle_count\")\n",
        "\n",
        "make_plots(mdf, pred_df, prefix='01')"
      ],
      "execution_count": null,
      "outputs": [
        {
          "output_type": "display_data",
          "data": {
            "image/png": "[encoded data removed]",
            "text/plain": [
              "<Figure size 288x129.6 with 1 Axes>"
            ]
          },
          "metadata": {
            "tags": [],
            "needs_background": "light"
          }
        },
        {
          "output_type": "display_data",
          "data": {
            "image/png": "[encoded data removed]",
            "text/plain": [
              "<Figure size 288x129.6 with 1 Axes>"
            ]
          },
          "metadata": {
            "tags": [],
            "needs_background": "light"
          }
        },
        {
          "output_type": "display_data",
          "data": {
            "image/png": "[encoded data removed]",
            "text/plain": [
              "<Figure size 288x129.6 with 1 Axes>"
            ]
          },
          "metadata": {
            "tags": [],
            "needs_background": "light"
          }
        },
        {
          "output_type": "display_data",
          "data": {
            "image/png": "[encoded data removed]",
            "text/plain": [
              "<Figure size 288x129.6 with 1 Axes>"
            ]
          },
          "metadata": {
            "tags": [],
            "needs_background": "light"
          }
        },
        {
          "output_type": "display_data",
          "data": {
            "image/png": "[encoded data removed]",
            "text/plain": [
              "<Figure size 288x129.6 with 1 Axes>"
            ]
          },
          "metadata": {
            "tags": [],
            "needs_background": "light"
          }
        },
        {
          "output_type": "display_data",
          "data": {
            "image/png": "[encoded data removed]",
            "text/plain": [
              "<Figure size 288x129.6 with 1 Axes>"
            ]
          },
          "metadata": {
            "tags": [],
            "needs_background": "light"
          }
        }
      ]
    },
    {
      "cell_type": "markdown",
      "metadata": {
        "id": "UgRUlTjnjarg"
      },
      "source": [
        "# Download Figures\n",
        "\n",
        "This section will execute the necessary code for downloading the figures generated in this notebook."
      ]
    },
    {
      "cell_type": "code",
      "metadata": {
        "id": "OiWajDYSjZmX",
        "outputId": "07c5cc81-f299-464c-9a73-ab8f43e44c81",
        "colab": {
          "base_uri": "https://localhost:8080/",
          "height": 223
        }
      },
      "source": [
        "!zip figs.zip figs/*\n",
        "\n",
        "from google.colab import files\n",
        "\n",
        "files.download('figs.zip')"
      ],
      "execution_count": null,
      "outputs": [
        {
          "output_type": "stream",
          "text": [
            "updating: figs/exp01_idle_count.pdf (deflated 29%)\n",
            "updating: figs/exp01_idle_count.png (deflated 6%)\n",
            "updating: figs/exp01_instance_count.pdf (deflated 28%)\n",
            "updating: figs/exp01_instance_count.png (deflated 6%)\n",
            "updating: figs/exp01_p_cold.pdf (deflated 28%)\n",
            "updating: figs/exp01_p_cold.png (deflated 5%)\n",
            "updating: figs/exp01_rps.pdf (deflated 29%)\n",
            "updating: figs/exp01_rps.png (deflated 6%)\n",
            "updating: figs/exp01_running_count.pdf (deflated 28%)\n",
            "updating: figs/exp01_running_count.png (deflated 5%)\n",
            "updating: figs/exp01_utilization.pdf (deflated 28%)\n",
            "updating: figs/exp01_utilization.png (deflated 6%)\n"
          ],
          "name": "stdout"
        },
        {
          "output_type": "display_data",
          "data": {
            "application/javascript": [
              "\n",
              "    async function download(id, filename, size) {\n",
              "      if (!google.colab.kernel.accessAllowed) {\n",
              "        return;\n",
              "      }\n",
              "      const div = document.createElement('div');\n",
              "      const label = document.createElement('label');\n",
              "      label.textContent = `Downloading \"${filename}\": `;\n",
              "      div.appendChild(label);\n",
              "      const progress = document.createElement('progress');\n",
              "      progress.max = size;\n",
              "      div.appendChild(progress);\n",
              "      document.body.appendChild(div);\n",
              "\n",
              "      const buffers = [];\n",
              "      let downloaded = 0;\n",
              "\n",
              "      const channel = await google.colab.kernel.comms.open(id);\n",
              "      // Send a message to notify the kernel that we're ready.\n",
              "      channel.send({})\n",
              "\n",
              "      for await (const message of channel.messages) {\n",
              "        // Send a message to notify the kernel that we're ready.\n",
              "        channel.send({})\n",
              "        if (message.buffers) {\n",
              "          for (const buffer of message.buffers) {\n",
              "            buffers.push(buffer);\n",
              "            downloaded += buffer.byteLength;\n",
              "            progress.value = downloaded;\n",
              "          }\n",
              "        }\n",
              "      }\n",
              "      const blob = new Blob(buffers, {type: 'application/binary'});\n",
              "      const a = document.createElement('a');\n",
              "      a.href = window.URL.createObjectURL(blob);\n",
              "      a.download = filename;\n",
              "      div.appendChild(a);\n",
              "      a.click();\n",
              "      div.remove();\n",
              "    }\n",
              "  "
            ],
            "text/plain": [
              "<IPython.core.display.Javascript object>"
            ]
          },
          "metadata": {
            "tags": []
          }
        },
        {
          "output_type": "display_data",
          "data": {
            "application/javascript": [
              "download(\"download_001df328-4b49-4155-b38e-737bca472419\", \"figs.zip\", 506894)"
            ],
            "text/plain": [
              "<IPython.core.display.Javascript object>"
            ]
          },
          "metadata": {
            "tags": []
          }
        }
      ]
    }
  ]
}